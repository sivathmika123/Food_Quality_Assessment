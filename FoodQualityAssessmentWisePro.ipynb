{
  "cells": [
    {
      "cell_type": "markdown",
      "metadata": {
        "id": "jqX5Zai2Je3N"
      },
      "source": [
        "**Mounting** **Drive**"
      ]
    },
    {
      "cell_type": "code",
      "execution_count": null,
      "metadata": {
        "colab": {
          "base_uri": "https://localhost:8080/"
        },
        "id": "xgeNs0kOZZ9e",
        "outputId": "e6d8abeb-c6bc-41ef-8791-fe82a7373d16"
      },
      "outputs": [
        {
          "output_type": "stream",
          "name": "stdout",
          "text": [
            "Drive already mounted at /content/drive; to attempt to forcibly remount, call drive.mount(\"/content/drive\", force_remount=True).\n"
          ]
        }
      ],
      "source": [
        "from google.colab import drive\n",
        "drive.mount('/content/drive')"
      ]
    },
    {
      "cell_type": "code",
      "execution_count": null,
      "metadata": {
        "colab": {
          "base_uri": "https://localhost:8080/"
        },
        "id": "z_3PgiqwIVa6",
        "outputId": "cdd11aed-8c0f-435d-810b-744522430788"
      },
      "outputs": [
        {
          "name": "stdout",
          "output_type": "stream",
          "text": [
            "Requirement already satisfied: Kaggle in /usr/local/lib/python3.10/dist-packages (1.5.16)\n",
            "Requirement already satisfied: six>=1.10 in /usr/local/lib/python3.10/dist-packages (from Kaggle) (1.16.0)\n",
            "Requirement already satisfied: certifi in /usr/local/lib/python3.10/dist-packages (from Kaggle) (2024.2.2)\n",
            "Requirement already satisfied: python-dateutil in /usr/local/lib/python3.10/dist-packages (from Kaggle) (2.8.2)\n",
            "Requirement already satisfied: requests in /usr/local/lib/python3.10/dist-packages (from Kaggle) (2.31.0)\n",
            "Requirement already satisfied: tqdm in /usr/local/lib/python3.10/dist-packages (from Kaggle) (4.66.2)\n",
            "Requirement already satisfied: python-slugify in /usr/local/lib/python3.10/dist-packages (from Kaggle) (8.0.4)\n",
            "Requirement already satisfied: urllib3 in /usr/local/lib/python3.10/dist-packages (from Kaggle) (2.0.7)\n",
            "Requirement already satisfied: bleach in /usr/local/lib/python3.10/dist-packages (from Kaggle) (6.1.0)\n",
            "Requirement already satisfied: webencodings in /usr/local/lib/python3.10/dist-packages (from bleach->Kaggle) (0.5.1)\n",
            "Requirement already satisfied: text-unidecode>=1.3 in /usr/local/lib/python3.10/dist-packages (from python-slugify->Kaggle) (1.3)\n",
            "Requirement already satisfied: charset-normalizer<4,>=2 in /usr/local/lib/python3.10/dist-packages (from requests->Kaggle) (3.3.2)\n",
            "Requirement already satisfied: idna<4,>=2.5 in /usr/local/lib/python3.10/dist-packages (from requests->Kaggle) (3.6)\n"
          ]
        }
      ],
      "source": [
        "\n",
        "!pip install Kaggle"
      ]
    },
    {
      "cell_type": "markdown",
      "metadata": {
        "id": "B__bjQVOJqBE"
      },
      "source": [
        "**Link kaggle account**"
      ]
    },
    {
      "cell_type": "code",
      "execution_count": null,
      "metadata": {
        "id": "P5z3hgjPMtPc"
      },
      "outputs": [],
      "source": [
        "import os\n",
        "\n",
        "os.environ['KAGGLE_USERNAME'] = \"sivathmika\"\n",
        "os.environ['KAGGLE_KEY'] = \"bc03641ea48d0affb86485afe7a072ba\"\n"
      ]
    },
    {
      "cell_type": "code",
      "execution_count": null,
      "metadata": {
        "colab": {
          "base_uri": "https://localhost:8080/"
        },
        "id": "sF2E7U3vM8gd",
        "outputId": "9f1957f2-c48a-4863-b6ed-c1ff3d089ee6"
      },
      "outputs": [
        {
          "output_type": "stream",
          "name": "stdout",
          "text": [
            "Warning: Looks like you're using an outdated API Version, please consider updating (server 1.6.6 / client 1.5.16)\n",
            "ref                                                     title                                          size  lastUpdated          downloadCount  voteCount  usabilityRating  \n",
            "------------------------------------------------------  --------------------------------------------  -----  -------------------  -------------  ---------  ---------------  \n",
            "nelgiriyewithana/apple-quality                          Apple Quality                                 170KB  2024-01-11 14:31:07          16035        361  1.0              \n",
            "imtkaggleteam/airplane-crashes                          Airplane Crashes 🛫                            564KB  2024-02-15 21:00:38            675         38  1.0              \n",
            "bhavikjikadara/google-play-store-applications           Google Play Store Applications                328KB  2024-02-13 06:48:02           1192         36  1.0              \n",
            "mikhail1681/walmart-sales                               Walmart Sales                                 122KB  2024-02-13 17:35:56            965         22  1.0              \n",
            "nelgiriyewithana/emotions                               Emotions                                       16MB  2024-02-05 16:01:39           2106         83  1.0              \n",
            "joebeachcapital/valentines-day-consumer-data            Valentine's Day Consumer Data                   1KB  2024-02-12 00:21:31           1558         35  1.0              \n",
            "joebeachcapital/chocolate-ratings                       Chocolate Ratings                              64KB  2024-02-12 00:52:44           1423         34  1.0              \n",
            "mrsimple07/car-prices-prediction-data                   Car-Prices-Prediction-data                     14KB  2024-02-10 10:40:23           1649         40  1.0              \n",
            "imyjoshua/average-time-spent-by-a-user-on-social-media  Average Time Spent By A User On Social Media   11KB  2024-01-18 10:18:03           3223         45  1.0              \n",
            "dumanmesut/individual-carbon-footprint-calculation      Individual Carbon Footprint Calculation       236KB  2024-02-14 15:22:24            251         22  1.0              \n",
            "agarwalyashhh/best-selling-books                        Best Selling Books                              9KB  2024-02-08 14:37:00           1223         27  1.0              \n",
            "rrkcoder/swiggy-restaurants-dataset                     Swiggy Restaurant's Dataset                     3MB  2024-02-10 16:49:50           1054         51  1.0              \n",
            "cdeotte/brain-spectrograms                              Brain-Spectrograms                              3GB  2024-01-13 03:25:31           1217        190  0.625            \n",
            "elvinrustam/coursera-dataset                            Coursera Dataset                                4MB  2024-02-12 19:41:40            862         31  1.0              \n",
            "bhavikjikadara/loan-status-prediction                   Loan Status Prediction                          5KB  2024-02-02 13:27:20           2258         50  1.0              \n",
            "beridzeg45/video-games                                  🎮Video Games Dataset                          756KB  2024-02-10 05:16:28            672         23  1.0              \n",
            "dansbecker/melbourne-housing-snapshot                   Melbourne Housing Snapshot                    451KB  2018-06-05 12:52:24         138831       1432  0.7058824        \n",
            "yukawithdata/spotify-top-tracks-2023                    Spotify Top 50 Tracks 2023                      4KB  2024-02-07 05:52:12           1346         29  1.0              \n",
            "shiivvvaam/top-youtuber-worldwide                       Top YouTubers Worldwide                        83KB  2024-02-05 09:33:23           1527         60  1.0              \n",
            "shiivvvaam/most-watched-movies-and-tv-shows             Most Watched Movies and TV Shows                1MB  2024-02-04 19:19:18           2205         60  1.0              \n"
          ]
        }
      ],
      "source": [
        "!kaggle datasets list"
      ]
    },
    {
      "cell_type": "markdown",
      "metadata": {
        "id": "B4dtHAq6JyI7"
      },
      "source": [
        "**Creating a folder and\n",
        "store zip file of the dataset**"
      ]
    },
    {
      "cell_type": "code",
      "execution_count": null,
      "metadata": {
        "colab": {
          "base_uri": "https://localhost:8080/"
        },
        "id": "v1vUCDf2NurJ",
        "outputId": "8c4e7194-8d44-4c8a-fe29-306749958504"
      },
      "outputs": [
        {
          "output_type": "stream",
          "name": "stdout",
          "text": [
            "Downloading food-quality-assessment.zip to /content/datasets\n",
            " 59% 9.00M/15.2M [00:00<00:00, 17.5MB/s]\n",
            "100% 15.2M/15.2M [00:00<00:00, 31.1MB/s]\n"
          ]
        }
      ],
      "source": [
        "!kaggle datasets download -d ameymore/food-quality-assessment -p /content/datasets/"
      ]
    },
    {
      "cell_type": "markdown",
      "metadata": {
        "id": "hTgZXs0UKCf-"
      },
      "source": [
        "Extracting Zip\n"
      ]
    },
    {
      "cell_type": "code",
      "execution_count": null,
      "metadata": {
        "id": "mH_X0FJ8OX7G"
      },
      "outputs": [],
      "source": [
        "import zipfile\n",
        "\n",
        "# Path to the downloaded zip file\n",
        "zip_file_path = '/content/datasets/food-quality-assessment.zip'\n",
        "\n",
        "# Directory to extract the contents of the zip file\n",
        "extract_dir = '/content/datasets/'\n",
        "\n",
        "# Unzip the file\n",
        "with zipfile.ZipFile(zip_file_path, 'r') as zip_ref:\n",
        "    zip_ref.extractall(extract_dir)\n"
      ]
    },
    {
      "cell_type": "markdown",
      "metadata": {
        "id": "EwpMtbQ7KGUc"
      },
      "source": [
        "covert  the Dataset xlsx to csv\n"
      ]
    },
    {
      "cell_type": "code",
      "execution_count": null,
      "metadata": {
        "id": "OFL497tsScEh"
      },
      "outputs": [],
      "source": [
        "import pandas as pd\n",
        "\n",
        "# Provide the path to your Excel files\n",
        "xlsx_file_paths = ['/content/datasets/Data_Test.xlsx','/content/datasets/Data_Train.xlsx','/content/datasets/Sample_Submission.xlsx']\n",
        "\n",
        "# Loop through each Excel file\n",
        "for xlsx_file_path in xlsx_file_paths:\n",
        "    # Read the Excel file into a DataFrame\n",
        "    dataset = pd.read_excel(xlsx_file_path)\n",
        "\n",
        "    # Extract the file name (without extension)\n",
        "    file_name = xlsx_file_path.split('/')[-1].split('.')[0]\n",
        "\n",
        "    # Define the CSV file path\n",
        "    csv_file_path = f'/content/datasets/{file_name}.csv'\n",
        "\n",
        "    # Convert and save the DataFrame to a CSV file\n",
        "    dataset.to_csv(csv_file_path, index=False)\n",
        "\n"
      ]
    },
    {
      "cell_type": "code",
      "execution_count": null,
      "metadata": {
        "id": "k85eIDOO7uIG"
      },
      "outputs": [],
      "source": [
        "import warnings\n",
        "warnings.filterwarnings(\"ignore\")"
      ]
    },
    {
      "cell_type": "code",
      "execution_count": null,
      "metadata": {
        "id": "Iuw6dZjjSoXx"
      },
      "outputs": [],
      "source": [
        "dataset = pd.read_csv('/content/datasets/Data_Train.csv')"
      ]
    },
    {
      "cell_type": "markdown",
      "metadata": {
        "id": "xYxnkydcKVNR"
      },
      "source": [
        "Droping Nan values"
      ]
    },
    {
      "cell_type": "code",
      "execution_count": null,
      "metadata": {
        "id": "pmwaY5ykZpJ7"
      },
      "outputs": [],
      "source": [
        "dataset = dataset.dropna()"
      ]
    },
    {
      "cell_type": "code",
      "execution_count": null,
      "metadata": {
        "colab": {
          "base_uri": "https://localhost:8080/"
        },
        "id": "caQULbEW3lms",
        "outputId": "548f5830-fec4-41b8-92fe-e2ed394016be"
      },
      "outputs": [
        {
          "output_type": "execute_result",
          "data": {
            "text/plain": [
              "ID                    0\n",
              "Date                  0\n",
              "LicenseNo             0\n",
              "FacilityID            0\n",
              "FacilityName          0\n",
              "Type                  0\n",
              "Street                0\n",
              "City                  0\n",
              "State                 0\n",
              "LocationID            0\n",
              "Reason                0\n",
              "SectionViolations     0\n",
              "RiskLevel             0\n",
              "Geo_Loc               0\n",
              "Inspection_Results    0\n",
              "dtype: int64"
            ]
          },
          "metadata": {},
          "execution_count": 10
        }
      ],
      "source": [
        "dataset.isnull().sum()"
      ]
    },
    {
      "cell_type": "code",
      "execution_count": null,
      "metadata": {
        "colab": {
          "base_uri": "https://localhost:8080/"
        },
        "id": "ir0OAkcS36EF",
        "outputId": "121c06de-5dab-4c74-c21b-539576e1c34f"
      },
      "outputs": [
        {
          "output_type": "execute_result",
          "data": {
            "text/plain": [
              "ID                    0\n",
              "Date                  0\n",
              "LicenseNo             0\n",
              "FacilityID            0\n",
              "FacilityName          0\n",
              "Type                  0\n",
              "Street                0\n",
              "City                  0\n",
              "State                 0\n",
              "LocationID            0\n",
              "Reason                0\n",
              "SectionViolations     0\n",
              "RiskLevel             0\n",
              "Geo_Loc               0\n",
              "Inspection_Results    0\n",
              "dtype: int64"
            ]
          },
          "metadata": {},
          "execution_count": 11
        }
      ],
      "source": [
        "dataset.isna().sum()"
      ]
    },
    {
      "cell_type": "code",
      "execution_count": null,
      "metadata": {
        "colab": {
          "base_uri": "https://localhost:8080/"
        },
        "id": "GYp0lsHZ-s1E",
        "outputId": "d715cfb7-e78d-4b65-ffc7-6463a4c4b451"
      },
      "outputs": [
        {
          "output_type": "stream",
          "name": "stdout",
          "text": [
            "<class 'pandas.core.frame.DataFrame'>\n",
            "Int64Index: 108281 entries, 0 to 147442\n",
            "Data columns (total 15 columns):\n",
            " #   Column              Non-Null Count   Dtype  \n",
            "---  ------              --------------   -----  \n",
            " 0   ID                  108281 non-null  int64  \n",
            " 1   Date                108281 non-null  object \n",
            " 2   LicenseNo           108281 non-null  int64  \n",
            " 3   FacilityID          108281 non-null  int64  \n",
            " 4   FacilityName        108281 non-null  int64  \n",
            " 5   Type                108281 non-null  object \n",
            " 6   Street              108281 non-null  int64  \n",
            " 7   City                108281 non-null  object \n",
            " 8   State               108281 non-null  object \n",
            " 9   LocationID          108281 non-null  float64\n",
            " 10  Reason              108281 non-null  object \n",
            " 11  SectionViolations   108281 non-null  float64\n",
            " 12  RiskLevel           108281 non-null  object \n",
            " 13  Geo_Loc             108281 non-null  object \n",
            " 14  Inspection_Results  108281 non-null  int64  \n",
            "dtypes: float64(2), int64(6), object(7)\n",
            "memory usage: 13.2+ MB\n"
          ]
        }
      ],
      "source": [
        "dataset.info()"
      ]
    },
    {
      "cell_type": "code",
      "execution_count": null,
      "metadata": {
        "id": "6-LDeTdwv3UV"
      },
      "outputs": [],
      "source": [
        "dataset['Type'].fillna(dataset['Type'].mode()[0], inplace = True)\n",
        "dataset['LocationID'].fillna(dataset['LocationID'].mode()[0], inplace=True)\n",
        "dataset['SectionViolations'].fillna(dataset['SectionViolations'].mode()[0], inplace = True)\n"
      ]
    },
    {
      "cell_type": "code",
      "execution_count": null,
      "metadata": {
        "colab": {
          "base_uri": "https://localhost:8080/"
        },
        "id": "8mEt3YUK09HP",
        "outputId": "e8003dd2-9b66-473b-fce0-91b47138331d"
      },
      "outputs": [
        {
          "output_type": "execute_result",
          "data": {
            "text/plain": [
              "ID                    0\n",
              "Date                  0\n",
              "LicenseNo             0\n",
              "FacilityID            0\n",
              "FacilityName          0\n",
              "Type                  0\n",
              "Street                0\n",
              "City                  0\n",
              "State                 0\n",
              "LocationID            0\n",
              "Reason                0\n",
              "SectionViolations     0\n",
              "RiskLevel             0\n",
              "Geo_Loc               0\n",
              "Inspection_Results    0\n",
              "dtype: int64"
            ]
          },
          "metadata": {},
          "execution_count": 16
        }
      ],
      "source": [
        "dataset.isna().sum()\n"
      ]
    },
    {
      "cell_type": "code",
      "execution_count": null,
      "metadata": {
        "colab": {
          "base_uri": "https://localhost:8080/"
        },
        "id": "9zqc9dUYpZlQ",
        "outputId": "72c5c466-d663-428a-ed34-e6a16380d31d"
      },
      "outputs": [
        {
          "output_type": "execute_result",
          "data": {
            "text/plain": [
              "ID                    0\n",
              "Date                  0\n",
              "LicenseNo             0\n",
              "FacilityID            0\n",
              "FacilityName          0\n",
              "Type                  0\n",
              "Street                0\n",
              "City                  0\n",
              "State                 0\n",
              "LocationID            0\n",
              "Reason                0\n",
              "SectionViolations     0\n",
              "RiskLevel             0\n",
              "Geo_Loc               0\n",
              "Inspection_Results    0\n",
              "dtype: int64"
            ]
          },
          "metadata": {},
          "execution_count": 17
        }
      ],
      "source": [
        "dataset.isnull().sum()\n"
      ]
    },
    {
      "cell_type": "code",
      "execution_count": null,
      "metadata": {
        "colab": {
          "base_uri": "https://localhost:8080/",
          "height": 653
        },
        "id": "UfuDNVOEHDbU",
        "outputId": "2e7e96ea-b1f0-4221-f807-352717594160"
      },
      "outputs": [
        {
          "output_type": "display_data",
          "data": {
            "text/plain": [
              "<Figure size 1500x1000 with 8 Axes>"
            ],
            "image/png": "[encoded data removed]"
          },
          "metadata": {}
        }
      ],
      "source": [
        "import matplotlib.pyplot as plt\n",
        "import seaborn as sns\n",
        "sns.set(style=\"whitegrid\")\n",
        "plt.figure(figsize=(15, 10))\n",
        "for i, column in enumerate(dataset.select_dtypes(include=['number']).columns):\n",
        "    plt.subplot(3, 3, i + 1)\n",
        "    sns.boxplot(x=dataset[column])\n",
        "    plt.title(column)\n",
        "\n",
        "plt.tight_layout()\n",
        "plt.show()\n"
      ]
    },
    {
      "cell_type": "code",
      "execution_count": null,
      "metadata": {
        "id": "V63v4Do_KpGd"
      },
      "outputs": [],
      "source": [
        "def handle_outliers(dataset):\n",
        "    df_no_outliers = dataset.copy()\n",
        "\n",
        "    for column in dataset.select_dtypes(include=['number']).columns:\n",
        "        Q1 = dataset[column].quantile(0.25)\n",
        "        Q3 = dataset[column].quantile(0.75)\n",
        "        IQR = Q3 - Q1\n",
        "        lower_bound = Q1 - 1.5 * IQR\n",
        "        upper_bound = Q3 + 1.5 * IQR\n",
        "\n",
        "        # Update the DataFrame without outliers for the current column\n",
        "        df_no_outliers = df_no_outliers[(df_no_outliers[column] >= lower_bound) & (df_no_outliers[column] <= upper_bound)]\n",
        "\n",
        "    return df_no_outliers\n",
        "\n"
      ]
    },
    {
      "cell_type": "code",
      "execution_count": null,
      "metadata": {
        "colab": {
          "base_uri": "https://localhost:8080/",
          "height": 646
        },
        "id": "3vEioq3d45Bp",
        "outputId": "836d13bb-6627-4167-c007-47505a850358"
      },
      "outputs": [
        {
          "output_type": "display_data",
          "data": {
            "text/plain": [
              "<Figure size 1500x1000 with 8 Axes>"
            ],
            "image/png": "[encoded data removed]"
          },
          "metadata": {}
        }
      ],
      "source": [
        "dataset = handle_outliers(dataset)\n",
        "\n",
        "sns.set(style=\"whitegrid\")\n",
        "plt.figure(figsize=(15, 10))\n",
        "for i, column in enumerate(dataset.select_dtypes(include=['number']).columns):\n",
        "    plt.subplot(3, 3, i + 1)\n",
        "    sns.boxplot(x=dataset[column])\n",
        "    plt.title(column)\n",
        "\n",
        "plt.tight_layout()\n",
        "plt.show()"
      ]
    },
    {
      "cell_type": "code",
      "execution_count": null,
      "metadata": {
        "colab": {
          "base_uri": "https://localhost:8080/",
          "height": 790
        },
        "id": "QYporXNNAC-T",
        "outputId": "fa4fab6f-67ff-4feb-fbf5-63f6409d5c66"
      },
      "outputs": [
        {
          "output_type": "execute_result",
          "data": {
            "text/plain": [
              "                    ID        Date  LicenseNo  FacilityID  FacilityName  \\\n",
              "0       31103489027986  26-04-2010       4744        8123          7715   \n",
              "1       10088999935915  21-06-2009       2973       12268         11664   \n",
              "3       37157708563676  28-09-2015      20825       20007         19115   \n",
              "4       47478049564374  09-12-2015       2136       16867         10409   \n",
              "6       17640167351232  04-04-2011       9621        3791          3576   \n",
              "...                ...         ...        ...         ...           ...   \n",
              "147432  22317707931588  11-05-2017       2938        5944          5685   \n",
              "147434  20445320482526  30-05-2013       5588       26550         25324   \n",
              "147435  11282139945113  16-11-2016      10983       18491         17662   \n",
              "147436  21161647203676  09-12-2013      17143       22155         21175   \n",
              "147442  16714564150129  14-02-2012      18743        1392          1249   \n",
              "\n",
              "                                Type  Street         City       State  \\\n",
              "0                         RESTAURANT   15522  id-11235901  id_1890134   \n",
              "1                      GROCERY STORE    3057  id-11235901  id_1890134   \n",
              "3                         RESTAURANT    3661  id-11235901  id_1890134   \n",
              "4                         RESTAURANT    7876  id-11235901  id_1890134   \n",
              "6                         RESTAURANT    2133  id-11235901  id_1890134   \n",
              "...                              ...     ...          ...         ...   \n",
              "147432                    RESTAURANT     130  id-11235901  id_1890134   \n",
              "147434                    RESTAURANT   11356  id-11235901  id_1890134   \n",
              "147435                        BAKERY   11326  id-11235901  id_1890134   \n",
              "147436                    RESTAURANT   16667  id-11235901  id_1890134   \n",
              "147442  CHILDREN'S SERVICES FACILITY    7750  id-11235901  id_1890134   \n",
              "\n",
              "        LocationID                 Reason  SectionViolations RiskLevel  \\\n",
              "0          81876.0                CANVASS               33.0      High   \n",
              "1          81862.0              COMPLAINT               33.0      High   \n",
              "3          81859.0  CANVASS RE-INSPECTION               31.0    Medium   \n",
              "4          81886.0              COMPLAINT               30.0      High   \n",
              "6          81887.0  CANVASS RE-INSPECTION               32.0      High   \n",
              "...            ...                    ...                ...       ...   \n",
              "147432     81867.0                CANVASS               33.0      High   \n",
              "147434     81870.0                CANVASS               30.0      High   \n",
              "147435     81886.0                CANVASS               32.0      High   \n",
              "147436     81865.0              COMPLAINT               33.0      High   \n",
              "147442     81904.0                LICENSE               32.0      High   \n",
              "\n",
              "           Geo_Loc  Inspection_Results  \n",
              "0       locid16406                   4  \n",
              "1         locid878                   4  \n",
              "3       locid11839                   4  \n",
              "4       locid12264                   4  \n",
              "6        locid8876                   4  \n",
              "...            ...                 ...  \n",
              "147432  locid10162                   4  \n",
              "147434  locid14111                   4  \n",
              "147435  locid14000                   4  \n",
              "147436   locid1677                   4  \n",
              "147442  locid16090                   4  \n",
              "\n",
              "[61046 rows x 15 columns]"
            ],
            "text/html": [
              "\n",
              "  <div id=\"df-401bf6b4-bb06-47e7-9199-5fbdb67bbaaa\" class=\"colab-df-container\">\n",
              "    <div>\n",
              "<style scoped>\n",
              "    .dataframe tbody tr th:only-of-type {\n",
              "        vertical-align: middle;\n",
              "    }\n",
              "\n",
              "    .dataframe tbody tr th {\n",
              "        vertical-align: top;\n",
              "    }\n",
              "\n",
              "    .dataframe thead th {\n",
              "        text-align: right;\n",
              "    }\n",
              "</style>\n",
              "<table border=\"1\" class=\"dataframe\">\n",
              "  <thead>\n",
              "    <tr style=\"text-align: right;\">\n",
              "      <th></th>\n",
              "      <th>ID</th>\n",
              "      <th>Date</th>\n",
              "      <th>LicenseNo</th>\n",
              "      <th>FacilityID</th>\n",
              "      <th>FacilityName</th>\n",
              "      <th>Type</th>\n",
              "      <th>Street</th>\n",
              "      <th>City</th>\n",
              "      <th>State</th>\n",
              "      <th>LocationID</th>\n",
              "      <th>Reason</th>\n",
              "      <th>SectionViolations</th>\n",
              "      <th>RiskLevel</th>\n",
              "      <th>Geo_Loc</th>\n",
              "      <th>Inspection_Results</th>\n",
              "    </tr>\n",
              "  </thead>\n",
              "  <tbody>\n",
              "    <tr>\n",
              "      <th>0</th>\n",
              "      <td>31103489027986</td>\n",
              "      <td>26-04-2010</td>\n",
              "      <td>4744</td>\n",
              "      <td>8123</td>\n",
              "      <td>7715</td>\n",
              "      <td>RESTAURANT</td>\n",
              "      <td>15522</td>\n",
              "      <td>id-11235901</td>\n",
              "      <td>id_1890134</td>\n",
              "      <td>81876.0</td>\n",
              "      <td>CANVASS</td>\n",
              "      <td>33.0</td>\n",
              "      <td>High</td>\n",
              "      <td>locid16406</td>\n",
              "      <td>4</td>\n",
              "    </tr>\n",
              "    <tr>\n",
              "      <th>1</th>\n",
              "      <td>10088999935915</td>\n",
              "      <td>21-06-2009</td>\n",
              "      <td>2973</td>\n",
              "      <td>12268</td>\n",
              "      <td>11664</td>\n",
              "      <td>GROCERY STORE</td>\n",
              "      <td>3057</td>\n",
              "      <td>id-11235901</td>\n",
              "      <td>id_1890134</td>\n",
              "      <td>81862.0</td>\n",
              "      <td>COMPLAINT</td>\n",
              "      <td>33.0</td>\n",
              "      <td>High</td>\n",
              "      <td>locid878</td>\n",
              "      <td>4</td>\n",
              "    </tr>\n",
              "    <tr>\n",
              "      <th>3</th>\n",
              "      <td>37157708563676</td>\n",
              "      <td>28-09-2015</td>\n",
              "      <td>20825</td>\n",
              "      <td>20007</td>\n",
              "      <td>19115</td>\n",
              "      <td>RESTAURANT</td>\n",
              "      <td>3661</td>\n",
              "      <td>id-11235901</td>\n",
              "      <td>id_1890134</td>\n",
              "      <td>81859.0</td>\n",
              "      <td>CANVASS RE-INSPECTION</td>\n",
              "      <td>31.0</td>\n",
              "      <td>Medium</td>\n",
              "      <td>locid11839</td>\n",
              "      <td>4</td>\n",
              "    </tr>\n",
              "    <tr>\n",
              "      <th>4</th>\n",
              "      <td>47478049564374</td>\n",
              "      <td>09-12-2015</td>\n",
              "      <td>2136</td>\n",
              "      <td>16867</td>\n",
              "      <td>10409</td>\n",
              "      <td>RESTAURANT</td>\n",
              "      <td>7876</td>\n",
              "      <td>id-11235901</td>\n",
              "      <td>id_1890134</td>\n",
              "      <td>81886.0</td>\n",
              "      <td>COMPLAINT</td>\n",
              "      <td>30.0</td>\n",
              "      <td>High</td>\n",
              "      <td>locid12264</td>\n",
              "      <td>4</td>\n",
              "    </tr>\n",
              "    <tr>\n",
              "      <th>6</th>\n",
              "      <td>17640167351232</td>\n",
              "      <td>04-04-2011</td>\n",
              "      <td>9621</td>\n",
              "      <td>3791</td>\n",
              "      <td>3576</td>\n",
              "      <td>RESTAURANT</td>\n",
              "      <td>2133</td>\n",
              "      <td>id-11235901</td>\n",
              "      <td>id_1890134</td>\n",
              "      <td>81887.0</td>\n",
              "      <td>CANVASS RE-INSPECTION</td>\n",
              "      <td>32.0</td>\n",
              "      <td>High</td>\n",
              "      <td>locid8876</td>\n",
              "      <td>4</td>\n",
              "    </tr>\n",
              "    <tr>\n",
              "      <th>...</th>\n",
              "      <td>...</td>\n",
              "      <td>...</td>\n",
              "      <td>...</td>\n",
              "      <td>...</td>\n",
              "      <td>...</td>\n",
              "      <td>...</td>\n",
              "      <td>...</td>\n",
              "      <td>...</td>\n",
              "      <td>...</td>\n",
              "      <td>...</td>\n",
              "      <td>...</td>\n",
              "      <td>...</td>\n",
              "      <td>...</td>\n",
              "      <td>...</td>\n",
              "      <td>...</td>\n",
              "    </tr>\n",
              "    <tr>\n",
              "      <th>147432</th>\n",
              "      <td>22317707931588</td>\n",
              "      <td>11-05-2017</td>\n",
              "      <td>2938</td>\n",
              "      <td>5944</td>\n",
              "      <td>5685</td>\n",
              "      <td>RESTAURANT</td>\n",
              "      <td>130</td>\n",
              "      <td>id-11235901</td>\n",
              "      <td>id_1890134</td>\n",
              "      <td>81867.0</td>\n",
              "      <td>CANVASS</td>\n",
              "      <td>33.0</td>\n",
              "      <td>High</td>\n",
              "      <td>locid10162</td>\n",
              "      <td>4</td>\n",
              "    </tr>\n",
              "    <tr>\n",
              "      <th>147434</th>\n",
              "      <td>20445320482526</td>\n",
              "      <td>30-05-2013</td>\n",
              "      <td>5588</td>\n",
              "      <td>26550</td>\n",
              "      <td>25324</td>\n",
              "      <td>RESTAURANT</td>\n",
              "      <td>11356</td>\n",
              "      <td>id-11235901</td>\n",
              "      <td>id_1890134</td>\n",
              "      <td>81870.0</td>\n",
              "      <td>CANVASS</td>\n",
              "      <td>30.0</td>\n",
              "      <td>High</td>\n",
              "      <td>locid14111</td>\n",
              "      <td>4</td>\n",
              "    </tr>\n",
              "    <tr>\n",
              "      <th>147435</th>\n",
              "      <td>11282139945113</td>\n",
              "      <td>16-11-2016</td>\n",
              "      <td>10983</td>\n",
              "      <td>18491</td>\n",
              "      <td>17662</td>\n",
              "      <td>BAKERY</td>\n",
              "      <td>11326</td>\n",
              "      <td>id-11235901</td>\n",
              "      <td>id_1890134</td>\n",
              "      <td>81886.0</td>\n",
              "      <td>CANVASS</td>\n",
              "      <td>32.0</td>\n",
              "      <td>High</td>\n",
              "      <td>locid14000</td>\n",
              "      <td>4</td>\n",
              "    </tr>\n",
              "    <tr>\n",
              "      <th>147436</th>\n",
              "      <td>21161647203676</td>\n",
              "      <td>09-12-2013</td>\n",
              "      <td>17143</td>\n",
              "      <td>22155</td>\n",
              "      <td>21175</td>\n",
              "      <td>RESTAURANT</td>\n",
              "      <td>16667</td>\n",
              "      <td>id-11235901</td>\n",
              "      <td>id_1890134</td>\n",
              "      <td>81865.0</td>\n",
              "      <td>COMPLAINT</td>\n",
              "      <td>33.0</td>\n",
              "      <td>High</td>\n",
              "      <td>locid1677</td>\n",
              "      <td>4</td>\n",
              "    </tr>\n",
              "    <tr>\n",
              "      <th>147442</th>\n",
              "      <td>16714564150129</td>\n",
              "      <td>14-02-2012</td>\n",
              "      <td>18743</td>\n",
              "      <td>1392</td>\n",
              "      <td>1249</td>\n",
              "      <td>CHILDREN'S SERVICES FACILITY</td>\n",
              "      <td>7750</td>\n",
              "      <td>id-11235901</td>\n",
              "      <td>id_1890134</td>\n",
              "      <td>81904.0</td>\n",
              "      <td>LICENSE</td>\n",
              "      <td>32.0</td>\n",
              "      <td>High</td>\n",
              "      <td>locid16090</td>\n",
              "      <td>4</td>\n",
              "    </tr>\n",
              "  </tbody>\n",
              "</table>\n",
              "<p>61046 rows × 15 columns</p>\n",
              "</div>\n",
              "    <div class=\"colab-df-buttons\">\n",
              "\n",
              "  <div class=\"colab-df-container\">\n",
              "    <button class=\"colab-df-convert\" onclick=\"convertToInteractive('df-401bf6b4-bb06-47e7-9199-5fbdb67bbaaa')\"\n",
              "            title=\"Convert this dataframe to an interactive table.\"\n",
              "            style=\"display:none;\">\n",
              "\n",
              "  <svg xmlns=\"http://www.w3.org/2000/svg\" height=\"24px\" viewBox=\"0 -960 960 960\">\n",
              "    <path d=\"M120-120v-720h720v720H120Zm60-500h600v-160H180v160Zm220 220h160v-160H400v160Zm0 220h160v-160H400v160ZM180-400h160v-160H180v160Zm440 0h160v-160H620v160ZM180-180h160v-160H180v160Zm440 0h160v-160H620v160Z\"/>\n",
              "  </svg>\n",
              "    </button>\n",
              "\n",
              "  <style>\n",
              "    .colab-df-container {\n",
              "      display:flex;\n",
              "      gap: 12px;\n",
              "    }\n",
              "\n",
              "    .colab-df-convert {\n",
              "      background-color: #E8F0FE;\n",
              "      border: none;\n",
              "      border-radius: 50%;\n",
              "      cursor: pointer;\n",
              "      display: none;\n",
              "      fill: #1967D2;\n",
              "      height: 32px;\n",
              "      padding: 0 0 0 0;\n",
              "      width: 32px;\n",
              "    }\n",
              "\n",
              "    .colab-df-convert:hover {\n",
              "      background-color: #E2EBFA;\n",
              "      box-shadow: 0px 1px 2px rgba(60, 64, 67, 0.3), 0px 1px 3px 1px rgba(60, 64, 67, 0.15);\n",
              "      fill: #174EA6;\n",
              "    }\n",
              "\n",
              "    .colab-df-buttons div {\n",
              "      margin-bottom: 4px;\n",
              "    }\n",
              "\n",
              "    [theme=dark] .colab-df-convert {\n",
              "      background-color: #3B4455;\n",
              "      fill: #D2E3FC;\n",
              "    }\n",
              "\n",
              "    [theme=dark] .colab-df-convert:hover {\n",
              "      background-color: #434B5C;\n",
              "      box-shadow: 0px 1px 3px 1px rgba(0, 0, 0, 0.15);\n",
              "      filter: drop-shadow(0px 1px 2px rgba(0, 0, 0, 0.3));\n",
              "      fill: #FFFFFF;\n",
              "    }\n",
              "  </style>\n",
              "\n",
              "    <script>\n",
              "      const buttonEl =\n",
              "        document.querySelector('#df-401bf6b4-bb06-47e7-9199-5fbdb67bbaaa button.colab-df-convert');\n",
              "      buttonEl.style.display =\n",
              "        google.colab.kernel.accessAllowed ? 'block' : 'none';\n",
              "\n",
              "      async function convertToInteractive(key) {\n",
              "        const element = document.querySelector('#df-401bf6b4-bb06-47e7-9199-5fbdb67bbaaa');\n",
              "        const dataTable =\n",
              "          await google.colab.kernel.invokeFunction('convertToInteractive',\n",
              "                                                    [key], {});\n",
              "        if (!dataTable) return;\n",
              "\n",
              "        const docLinkHtml = 'Like what you see? Visit the ' +\n",
              "          '<a target=\"_blank\" href=https://colab.research.google.com/notebooks/data_table.ipynb>data table notebook</a>'\n",
              "          + ' to learn more about interactive tables.';\n",
              "        element.innerHTML = '';\n",
              "        dataTable['output_type'] = 'display_data';\n",
              "        await google.colab.output.renderOutput(dataTable, element);\n",
              "        const docLink = document.createElement('div');\n",
              "        docLink.innerHTML = docLinkHtml;\n",
              "        element.appendChild(docLink);\n",
              "      }\n",
              "    </script>\n",
              "  </div>\n",
              "\n",
              "\n",
              "<div id=\"df-dad3aabc-e679-466a-9172-68863997ae26\">\n",
              "  <button class=\"colab-df-quickchart\" onclick=\"quickchart('df-dad3aabc-e679-466a-9172-68863997ae26')\"\n",
              "            title=\"Suggest charts\"\n",
              "            style=\"display:none;\">\n",
              "\n",
              "<svg xmlns=\"http://www.w3.org/2000/svg\" height=\"24px\"viewBox=\"0 0 24 24\"\n",
              "     width=\"24px\">\n",
              "    <g>\n",
              "        <path d=\"M19 3H5c-1.1 0-2 .9-2 2v14c0 1.1.9 2 2 2h14c1.1 0 2-.9 2-2V5c0-1.1-.9-2-2-2zM9 17H7v-7h2v7zm4 0h-2V7h2v10zm4 0h-2v-4h2v4z\"/>\n",
              "    </g>\n",
              "</svg>\n",
              "  </button>\n",
              "\n",
              "<style>\n",
              "  .colab-df-quickchart {\n",
              "      --bg-color: #E8F0FE;\n",
              "      --fill-color: #1967D2;\n",
              "      --hover-bg-color: #E2EBFA;\n",
              "      --hover-fill-color: #174EA6;\n",
              "      --disabled-fill-color: #AAA;\n",
              "      --disabled-bg-color: #DDD;\n",
              "  }\n",
              "\n",
              "  [theme=dark] .colab-df-quickchart {\n",
              "      --bg-color: #3B4455;\n",
              "      --fill-color: #D2E3FC;\n",
              "      --hover-bg-color: #434B5C;\n",
              "      --hover-fill-color: #FFFFFF;\n",
              "      --disabled-bg-color: #3B4455;\n",
              "      --disabled-fill-color: #666;\n",
              "  }\n",
              "\n",
              "  .colab-df-quickchart {\n",
              "    background-color: var(--bg-color);\n",
              "    border: none;\n",
              "    border-radius: 50%;\n",
              "    cursor: pointer;\n",
              "    display: none;\n",
              "    fill: var(--fill-color);\n",
              "    height: 32px;\n",
              "    padding: 0;\n",
              "    width: 32px;\n",
              "  }\n",
              "\n",
              "  .colab-df-quickchart:hover {\n",
              "    background-color: var(--hover-bg-color);\n",
              "    box-shadow: 0 1px 2px rgba(60, 64, 67, 0.3), 0 1px 3px 1px rgba(60, 64, 67, 0.15);\n",
              "    fill: var(--button-hover-fill-color);\n",
              "  }\n",
              "\n",
              "  .colab-df-quickchart-complete:disabled,\n",
              "  .colab-df-quickchart-complete:disabled:hover {\n",
              "    background-color: var(--disabled-bg-color);\n",
              "    fill: var(--disabled-fill-color);\n",
              "    box-shadow: none;\n",
              "  }\n",
              "\n",
              "  .colab-df-spinner {\n",
              "    border: 2px solid var(--fill-color);\n",
              "    border-color: transparent;\n",
              "    border-bottom-color: var(--fill-color);\n",
              "    animation:\n",
              "      spin 1s steps(1) infinite;\n",
              "  }\n",
              "\n",
              "  @keyframes spin {\n",
              "    0% {\n",
              "      border-color: transparent;\n",
              "      border-bottom-color: var(--fill-color);\n",
              "      border-left-color: var(--fill-color);\n",
              "    }\n",
              "    20% {\n",
              "      border-color: transparent;\n",
              "      border-left-color: var(--fill-color);\n",
              "      border-top-color: var(--fill-color);\n",
              "    }\n",
              "    30% {\n",
              "      border-color: transparent;\n",
              "      border-left-color: var(--fill-color);\n",
              "      border-top-color: var(--fill-color);\n",
              "      border-right-color: var(--fill-color);\n",
              "    }\n",
              "    40% {\n",
              "      border-color: transparent;\n",
              "      border-right-color: var(--fill-color);\n",
              "      border-top-color: var(--fill-color);\n",
              "    }\n",
              "    60% {\n",
              "      border-color: transparent;\n",
              "      border-right-color: var(--fill-color);\n",
              "    }\n",
              "    80% {\n",
              "      border-color: transparent;\n",
              "      border-right-color: var(--fill-color);\n",
              "      border-bottom-color: var(--fill-color);\n",
              "    }\n",
              "    90% {\n",
              "      border-color: transparent;\n",
              "      border-bottom-color: var(--fill-color);\n",
              "    }\n",
              "  }\n",
              "</style>\n",
              "\n",
              "  <script>\n",
              "    async function quickchart(key) {\n",
              "      const quickchartButtonEl =\n",
              "        document.querySelector('#' + key + ' button');\n",
              "      quickchartButtonEl.disabled = true;  // To prevent multiple clicks.\n",
              "      quickchartButtonEl.classList.add('colab-df-spinner');\n",
              "      try {\n",
              "        const charts = await google.colab.kernel.invokeFunction(\n",
              "            'suggestCharts', [key], {});\n",
              "      } catch (error) {\n",
              "        console.error('Error during call to suggestCharts:', error);\n",
              "      }\n",
              "      quickchartButtonEl.classList.remove('colab-df-spinner');\n",
              "      quickchartButtonEl.classList.add('colab-df-quickchart-complete');\n",
              "    }\n",
              "    (() => {\n",
              "      let quickchartButtonEl =\n",
              "        document.querySelector('#df-dad3aabc-e679-466a-9172-68863997ae26 button');\n",
              "      quickchartButtonEl.style.display =\n",
              "        google.colab.kernel.accessAllowed ? 'block' : 'none';\n",
              "    })();\n",
              "  </script>\n",
              "</div>\n",
              "    </div>\n",
              "  </div>\n"
            ],
            "application/vnd.google.colaboratory.intrinsic+json": {
              "type": "dataframe",
              "variable_name": "dataset",
              "summary": "{\n  \"name\": \"dataset\",\n  \"rows\": 61046,\n  \"fields\": [\n    {\n      \"column\": \"ID\",\n      \"properties\": {\n        \"dtype\": \"number\",\n        \"std\": 11567569181160,\n        \"min\": 10003182706795,\n        \"max\": 49999870293546,\n        \"samples\": [\n          48071469601000,\n          49639079021545,\n          10138179129984\n        ],\n        \"num_unique_values\": 61046,\n        \"semantic_type\": \"\",\n        \"description\": \"\"\n      }\n    },\n    {\n      \"column\": \"Date\",\n      \"properties\": {\n        \"dtype\": \"category\",\n        \"samples\": [\n          \"14-05-2009\",\n          \"12-10-2010\",\n          \"09-12-2012\"\n        ],\n        \"num_unique_values\": 2417,\n        \"semantic_type\": \"\",\n        \"description\": \"\"\n      }\n    },\n    {\n      \"column\": \"LicenseNo\",\n      \"properties\": {\n        \"dtype\": \"number\",\n        \"std\": 11223,\n        \"min\": 0,\n        \"max\": 37394,\n        \"samples\": [\n          10250,\n          23233,\n          24348\n        ],\n        \"num_unique_values\": 20389,\n        \"semantic_type\": \"\",\n        \"description\": \"\"\n      }\n    },\n    {\n      \"column\": \"FacilityID\",\n      \"properties\": {\n        \"dtype\": \"number\",\n        \"std\": 7760,\n        \"min\": 0,\n        \"max\": 27276,\n        \"samples\": [\n          17802,\n          11338,\n          21746\n        ],\n        \"num_unique_values\": 16495,\n        \"semantic_type\": \"\",\n        \"description\": \"\"\n      }\n    },\n    {\n      \"column\": \"FacilityName\",\n      \"properties\": {\n        \"dtype\": \"number\",\n        \"std\": 7393,\n        \"min\": 0,\n        \"max\": 26031,\n        \"samples\": [\n          21932,\n          23645,\n          7940\n        ],\n        \"num_unique_values\": 15821,\n        \"semantic_type\": \"\",\n        \"description\": \"\"\n      }\n    },\n    {\n      \"column\": \"Type\",\n      \"properties\": {\n        \"dtype\": \"category\",\n        \"samples\": [\n          \"CANDY/GELATO\",\n          \"GROCERY& RESTAURANT\",\n          \"BAKERY\"\n        ],\n        \"num_unique_values\": 259,\n        \"semantic_type\": \"\",\n        \"description\": \"\"\n      }\n    },\n    {\n      \"column\": \"Street\",\n      \"properties\": {\n        \"dtype\": \"number\",\n        \"std\": 5291,\n        \"min\": 1,\n        \"max\": 17890,\n        \"samples\": [\n          14046,\n          14177,\n          6972\n        ],\n        \"num_unique_values\": 13589,\n        \"semantic_type\": \"\",\n        \"description\": \"\"\n      }\n    },\n    {\n      \"column\": \"City\",\n      \"properties\": {\n        \"dtype\": \"category\",\n        \"samples\": [\n          \"id-11275913\",\n          \"id-11235901\"\n        ],\n        \"num_unique_values\": 2,\n        \"semantic_type\": \"\",\n        \"description\": \"\"\n      }\n    },\n    {\n      \"column\": \"State\",\n      \"properties\": {\n        \"dtype\": \"category\",\n        \"samples\": [\n          \"id_1890135\",\n          \"id_1890134\"\n        ],\n        \"num_unique_values\": 2,\n        \"semantic_type\": \"\",\n        \"description\": \"\"\n      }\n    },\n    {\n      \"column\": \"LocationID\",\n      \"properties\": {\n        \"dtype\": \"number\",\n        \"std\": 17.709178917471977,\n        \"min\": 81846.0,\n        \"max\": 81911.0,\n        \"samples\": [\n          81876.0,\n          81877.0\n        ],\n        \"num_unique_values\": 57,\n        \"semantic_type\": \"\",\n        \"description\": \"\"\n      }\n    },\n    {\n      \"column\": \"Reason\",\n      \"properties\": {\n        \"dtype\": \"category\",\n        \"samples\": [\n          \"CANVASS\",\n          \"COMPLAINT\"\n        ],\n        \"num_unique_values\": 16,\n        \"semantic_type\": \"\",\n        \"description\": \"\"\n      }\n    },\n    {\n      \"column\": \"SectionViolations\",\n      \"properties\": {\n        \"dtype\": \"number\",\n        \"std\": 4.274171582714708,\n        \"min\": 1.0,\n        \"max\": 59.0,\n        \"samples\": [\n          33.0,\n          49.0\n        ],\n        \"num_unique_values\": 56,\n        \"semantic_type\": \"\",\n        \"description\": \"\"\n      }\n    },\n    {\n      \"column\": \"RiskLevel\",\n      \"properties\": {\n        \"dtype\": \"category\",\n        \"samples\": [\n          \"High\",\n          \"Medium\"\n        ],\n        \"num_unique_values\": 3,\n        \"semantic_type\": \"\",\n        \"description\": \"\"\n      }\n    },\n    {\n      \"column\": \"Geo_Loc\",\n      \"properties\": {\n        \"dtype\": \"category\",\n        \"samples\": [\n          \"locid646\",\n          \"locid4114\"\n        ],\n        \"num_unique_values\": 13180,\n        \"semantic_type\": \"\",\n        \"description\": \"\"\n      }\n    },\n    {\n      \"column\": \"Inspection_Results\",\n      \"properties\": {\n        \"dtype\": \"number\",\n        \"std\": 0,\n        \"min\": 4,\n        \"max\": 4,\n        \"samples\": [\n          4\n        ],\n        \"num_unique_values\": 1,\n        \"semantic_type\": \"\",\n        \"description\": \"\"\n      }\n    }\n  ]\n}"
            }
          },
          "metadata": {},
          "execution_count": 21
        }
      ],
      "source": [
        "dataset"
      ]
    },
    {
      "cell_type": "code",
      "execution_count": null,
      "metadata": {
        "colab": {
          "base_uri": "https://localhost:8080/"
        },
        "id": "1pIbHldnLgYI",
        "outputId": "c217ab66-6335-4498-948c-5fea5603283c"
      },
      "outputs": [
        {
          "output_type": "stream",
          "name": "stdout",
          "text": [
            "               ID        Date  LicenseNo  FacilityID  FacilityName  Type  \\\n",
            "0  31103489027986  26-04-2010       4744        8123          7715   198   \n",
            "1  10088999935915  21-06-2009       2973       12268         11664   123   \n",
            "3  37157708563676  28-09-2015      20825       20007         19115   198   \n",
            "4  47478049564374  09-12-2015       2136       16867         10409   198   \n",
            "6  17640167351232  04-04-2011       9621        3791          3576   198   \n",
            "\n",
            "   Street         City  State  LocationID  Reason  SectionViolations  \\\n",
            "0   15522  id-11235901      0     81876.0       0               33.0   \n",
            "1    3057  id-11235901      0     81862.0       2               33.0   \n",
            "3    3661  id-11235901      0     81859.0       1               31.0   \n",
            "4    7876  id-11235901      0     81886.0       2               30.0   \n",
            "6    2133  id-11235901      0     81887.0       1               32.0   \n",
            "\n",
            "   RiskLevel     Geo_Loc  Inspection_Results  \n",
            "0          0  locid16406                   4  \n",
            "1          0    locid878                   4  \n",
            "3          2  locid11839                   4  \n",
            "4          0  locid12264                   4  \n",
            "6          0   locid8876                   4  \n"
          ]
        }
      ],
      "source": [
        "from sklearn.preprocessing import LabelEncoder\n",
        "\n",
        "# Initialize LabelEncoder\n",
        "encoder = LabelEncoder()\n",
        "\n",
        "# Define categorical features to be encoded\n",
        "categorical_features = ['Type','State', 'Reason', 'RiskLevel']\n",
        "\n",
        "# Apply LabelEncoder to each categorical feature\n",
        "for feature in categorical_features:\n",
        "    dataset[feature] = encoder.fit_transform(dataset[feature])\n",
        "\n",
        "\n",
        "print(dataset.head())\n",
        "\n",
        "\n",
        "\n"
      ]
    },
    {
      "cell_type": "code",
      "execution_count": null,
      "metadata": {
        "id": "RIv46tuNrHKG"
      },
      "outputs": [],
      "source": [
        "import seaborn as sns\n",
        "import matplotlib.pyplot as plt\n",
        "\n",
        "data = dataset.corr()\n",
        "\n",
        "# Create heatmap\n",
        "plt.figure(figsize=(10, 8))\n",
        "sns.heatmap(data, annot=True, cmap='coolwarm', fmt=\".2f\")\n",
        "plt.title('Correlation Heatmap')\n",
        "plt.show()\n"
      ]
    },
    {
      "cell_type": "code",
      "execution_count": null,
      "metadata": {
        "id": "euwuWfR6poZD"
      },
      "outputs": [],
      "source": [
        "from sklearn.model_selection import train_test_split\n",
        "from sklearn.metrics import accuracy_score, classification_report, confusion_matrix\n",
        "\n",
        "dataset = dataset.drop(['Date','LocationID','ID','City','Street','Geo_Loc'], axis=1)"
      ]
    },
    {
      "cell_type": "code",
      "execution_count": null,
      "metadata": {
        "id": "0BdcUzcXtNXG"
      },
      "outputs": [],
      "source": [
        "X = dataset.iloc[:, :-1]\n",
        "y = dataset['Inspection_Results']\n",
        "# Split the data into training and testing sets\n",
        "X_train, X_test, y_train, y_test = train_test_split(X, y, test_size=0.2, random_state=42)\n",
        "\n"
      ]
    },
    {
      "cell_type": "code",
      "execution_count": null,
      "metadata": {
        "colab": {
          "base_uri": "https://localhost:8080/"
        },
        "id": "2aaiCv4o1TGQ",
        "outputId": "88e32e0e-0a47-4b14-cf75-384cc735205e"
      },
      "outputs": [
        {
          "output_type": "stream",
          "name": "stdout",
          "text": [
            "   LicenseNo  FacilityID  FacilityName  Type  State  Reason  \\\n",
            "0       4744        8123          7715   198      0       0   \n",
            "1       2973       12268         11664   123      0       2   \n",
            "3      20825       20007         19115   198      0       1   \n",
            "4       2136       16867         10409   198      0       2   \n",
            "6       9621        3791          3576   198      0       1   \n",
            "\n",
            "   SectionViolations  RiskLevel  Inspection_Results  \n",
            "0               33.0          0                   4  \n",
            "1               33.0          0                   4  \n",
            "3               31.0          2                   4  \n",
            "4               30.0          0                   4  \n",
            "6               32.0          0                   4  \n"
          ]
        }
      ],
      "source": [
        "print(dataset.head())"
      ]
    },
    {
      "cell_type": "code",
      "execution_count": null,
      "metadata": {
        "id": "lpecwli_nsr1"
      },
      "outputs": [],
      "source": [
        "from sklearn.preprocessing import StandardScaler\n",
        "# Select the numerical columns to scale\n",
        "\n",
        "# Create a StandardScaler instance\n",
        "scaler = StandardScaler()\n",
        "# Fit the scaler on the selected columns and transform them\n",
        "X_train = scaler.fit_transform(X_train)"
      ]
    },
    {
      "cell_type": "code",
      "execution_count": null,
      "metadata": {
        "colab": {
          "base_uri": "https://localhost:8080/"
        },
        "id": "XxQRRgnw_Akd",
        "outputId": "196d7cfa-5f93-48c4-f5de-30549b7eef3e"
      },
      "outputs": [
        {
          "output_type": "execute_result",
          "data": {
            "text/plain": [
              "array([[ 0.15342192,  0.77046127,  0.77640364, ..., -0.59995132,\n",
              "         5.02515563, -0.5381995 ],\n",
              "       [-0.66151229,  0.68577864,  0.6912968 , ..., -0.59995132,\n",
              "        -0.77871396, -0.5381995 ],\n",
              "       [ 1.61648154, -0.50659914,  0.7714053 , ..., -0.59995132,\n",
              "        -0.3144044 , -0.5381995 ],\n",
              "       ...,\n",
              "       [-0.60739766,  1.21330768,  1.21504161, ..., -0.59995132,\n",
              "        -0.08224961, -0.5381995 ],\n",
              "       [-0.20019845, -1.23798423, -1.23941274, ..., -0.59995132,\n",
              "        -0.08224961, -0.5381995 ],\n",
              "       [-0.81269392,  1.20417019,  1.20734147, ...,  4.29175474,\n",
              "        -0.54655918, -0.5381995 ]])"
            ]
          },
          "metadata": {},
          "execution_count": 27
        }
      ],
      "source": [
        "X_train"
      ]
    },
    {
      "cell_type": "code",
      "execution_count": null,
      "metadata": {
        "colab": {
          "base_uri": "https://localhost:8080/"
        },
        "id": "L38kOdCBrQqO",
        "outputId": "ddef0b16-b269-4020-e7e5-1e1a0ad7e086"
      },
      "outputs": [
        {
          "output_type": "stream",
          "name": "stdout",
          "text": [
            "TrainAccuracy: 1.0\n",
            "TestAccuracy: 1.0\n",
            "              precision    recall  f1-score   support\n",
            "\n",
            "           4       1.00      1.00      1.00     12210\n",
            "\n",
            "    accuracy                           1.00     12210\n",
            "   macro avg       1.00      1.00      1.00     12210\n",
            "weighted avg       1.00      1.00      1.00     12210\n",
            "\n",
            "Confusion Matrix:\n",
            "[[12210]]\n"
          ]
        }
      ],
      "source": [
        "from sklearn.ensemble import RandomForestClassifier\n",
        "\n",
        "model =  RandomForestClassifier(n_estimators = 100, random_state  = 42)\n",
        "# Train the model\n",
        "model.fit(X_train, y_train)\n",
        "\n",
        "# Make predictions on the testing set\n",
        "y_pred = model.predict(X_test)\n",
        "\n",
        "y_pred_tr = model.predict(X_train)\n",
        "\n",
        "# Evaluate the model\n",
        "accuracy = accuracy_score(y_train, y_pred_tr)\n",
        "print(\"TrainAccuracy:\", accuracy)\n",
        "\n",
        "# Evaluate the model\n",
        "accuracy = accuracy_score(y_test, y_pred)\n",
        "print(\"TestAccuracy:\", accuracy)\n",
        "\n",
        "# Additional evaluation metrics\n",
        "print(classification_report(y_test, y_pred))\n",
        "print(\"Confusion Matrix:\")\n",
        "print(confusion_matrix(y_test, y_pred))"
      ]
    },
    {
      "cell_type": "code",
      "execution_count": null,
      "metadata": {
        "colab": {
          "base_uri": "https://localhost:8080/"
        },
        "id": "v_gJdbt5X9KY",
        "outputId": "e2a5d92d-85fb-49a4-99cd-bef1d4ad290b"
      },
      "outputs": [
        {
          "output_type": "stream",
          "name": "stdout",
          "text": [
            "Train Accuracy for k=3: 1.0\n",
            "Test Accuracy for k=3: 1.0\n",
            "Train Accuracy for k=5: 1.0\n",
            "Test Accuracy for k=5: 1.0\n",
            "Train Accuracy for k=7: 1.0\n",
            "Test Accuracy for k=7: 1.0\n",
            "Best performing k: 3\n"
          ]
        }
      ],
      "source": [
        "from sklearn.neighbors import KNeighborsClassifier\n",
        "\n",
        "# Define feature columns\n",
        "# feature_columns = ['LicenseNo', 'FacilityID', 'Type', 'State', 'Reason', 'SectionViolations', 'RiskLevel']\n",
        "\n",
        "# X = dataset[feature_columns]\n",
        "y = dataset['Inspection_Results']\n",
        "\n",
        "\n",
        "k_values = [3, 5, 7]  # Example values for k\n",
        "best_accuracy = 0\n",
        "best_k = None\n",
        "\n",
        "# Step 4: Train the Model\n",
        "for k in k_values:\n",
        "\n",
        "    knn = KNeighborsClassifier(n_neighbors=k)\n",
        "\n",
        "    # Fit the model to the training data\n",
        "    knn.fit(X_train, y_train)\n",
        "\n",
        "    # Make predictions on the testing data\n",
        "    y_pred_train = knn.predict(X_train)\n",
        "    y_pred_test = knn.predict(X_test)\n",
        "\n",
        "    # Evaluate the model\n",
        "    train_accuracy = accuracy_score(y_train, y_pred_train)\n",
        "    print(f\"Train Accuracy for k={k}: {train_accuracy}\")\n",
        "\n",
        "    test_accuracy = accuracy_score(y_test, y_pred_test)\n",
        "    print(f\"Test Accuracy for k={k}: {test_accuracy}\")\n",
        "\n",
        "    # Keep track of the best performing model\n",
        "    if test_accuracy > best_accuracy:\n",
        "        best_accuracy = test_accuracy\n",
        "        best_k = k\n",
        "\n",
        "# Step 6: Hyperparameter Tuning (Optional)\n",
        "print(f\"Best performing k: {best_k}\")\n",
        "\n"
      ]
    },
    {
      "cell_type": "code",
      "execution_count": null,
      "metadata": {
        "colab": {
          "base_uri": "https://localhost:8080/"
        },
        "id": "1UM47UugIf0Q",
        "outputId": "d0a01c21-a3dd-485c-e72e-1f41ef4cfc55"
      },
      "outputs": [
        {
          "output_type": "execute_result",
          "data": {
            "text/plain": [
              "['encoder.joblib']"
            ]
          },
          "metadata": {},
          "execution_count": 31
        }
      ],
      "source": [
        "import joblib\n",
        "joblib.dump(encoder,'encoder.joblib')"
      ]
    },
    {
      "cell_type": "code",
      "execution_count": null,
      "metadata": {
        "colab": {
          "base_uri": "https://localhost:8080/"
        },
        "id": "uksCG2JKK50z",
        "outputId": "435fa8cf-53c2-47e2-8266-4d35c0e5e165"
      },
      "outputs": [
        {
          "output_type": "execute_result",
          "data": {
            "text/plain": [
              "['Scaler.joblib']"
            ]
          },
          "metadata": {},
          "execution_count": 32
        }
      ],
      "source": [
        "joblib.dump(scaler, 'Scaler.joblib')"
      ]
    },
    {
      "cell_type": "code",
      "execution_count": null,
      "metadata": {
        "colab": {
          "base_uri": "https://localhost:8080/"
        },
        "id": "hKYcyBGELpR8",
        "outputId": "a04e18d9-6d65-483f-fdee-c8df20ff111a"
      },
      "outputs": [
        {
          "output_type": "execute_result",
          "data": {
            "text/plain": [
              "['RFS_model.joblib']"
            ]
          },
          "metadata": {},
          "execution_count": 33
        }
      ],
      "source": [
        "joblib.dump(model,'RFS_model.joblib')"
      ]
    },
    {
      "cell_type": "code",
      "source": [
        "!pip show scikit-learn\n"
      ],
      "metadata": {
        "colab": {
          "base_uri": "https://localhost:8080/"
        },
        "id": "xw49SmMKCcxB",
        "outputId": "28050b01-a678-4ed8-d43a-0fbea3e70762"
      },
      "execution_count": null,
      "outputs": [
        {
          "output_type": "stream",
          "name": "stdout",
          "text": [
            "Name: scikit-learn\n",
            "Version: 1.2.2\n",
            "Summary: A set of python modules for machine learning and data mining\n",
            "Home-page: http://scikit-learn.org\n",
            "Author: \n",
            "Author-email: \n",
            "License: new BSD\n",
            "Location: /usr/local/lib/python3.10/dist-packages\n",
            "Requires: joblib, numpy, scipy, threadpoolctl\n",
            "Required-by: bigframes, fastai, imbalanced-learn, librosa, mlxtend, qudida, sklearn-pandas, yellowbrick\n"
          ]
        }
      ]
    }
  ],
  "metadata": {
    "colab": {
      "provenance": []
    },
    "kernelspec": {
      "display_name": "Python 3",
      "name": "python3"
    },
    "language_info": {
      "name": "python"
    }
  },
  "nbformat": 4,
  "nbformat_minor": 0
}